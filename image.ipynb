{
 "cells": [
  {
   "cell_type": "markdown",
   "metadata": {},
   "source": [
    "Pillow,Opencv,matplotlib 对于图像的读取和处理\n",
    "\n",
    "三种，可以通过numpy转换，但是需要自己处理图像的通道顺序和大小\n"
   ]
  },
  {
   "cell_type": "code",
   "execution_count": 6,
   "metadata": {},
   "outputs": [
    {
     "name": "stdout",
     "output_type": "stream",
     "text": [
      "111: <class 'numpy.ndarray'> (500, 889, 3)\n",
      "222: (500, 889, 3)\n",
      "333: (3, 500, 889)\n"
     ]
    }
   ],
   "source": [
    "#opencv\n",
    "import cv2\n",
    "import numpy as np\n",
    "\n",
    "img_pth = \"./car.jpeg\"  #  H:500 W:889\n",
    "\n",
    "#opencv 读取后数据是numpy数组格式，且通道排列是BGR，通道数与长宽是HWC排列\n",
    "img = cv2.imread(img_pth)\n",
    "print(\"111:\",type(img),img.shape)\n",
    "\n",
    "#BGR->RGB\n",
    "img_rgb = cv2.cvtColor(img,cv2.COLOR_BGR2RGB)\n",
    "print(\"222:\",img_rgb.shape)\n",
    "#cv2.imshow(\"img_rgb\",img_rgb) #jupyter中使用cv.imshow会报错，应为不是一个可视化窗口\n",
    "cv2.imwrite(\"img_rgb.png\",img_rgb) #保存后打开查看，可以发现颜色与原图片不一致\n",
    "\n",
    "\n",
    "#HWC->CHW\n",
    "img_chw = np.transpose(img_rgb,(2,0,1))\n",
    "print(\"333:\",img_chw.shape)"
   ]
  },
  {
   "cell_type": "code",
   "execution_count": 13,
   "metadata": {},
   "outputs": [
    {
     "name": "stdout",
     "output_type": "stream",
     "text": [
      "111: <class 'PIL.JpegImagePlugin.JpegImageFile'> (889, 500)\n",
      "222: <class 'numpy.ndarray'> (500, 889, 3)\n"
     ]
    }
   ],
   "source": [
    "from PIL import Image \n",
    "\n",
    "img_pth = \"./car.jpeg\"\n",
    "\n",
    "#PIL读取后是“PIL.JpegImagePlugin.JpegImageFile”格式\n",
    "img = Image.open(img_pth)\n",
    "print(\"111:\",type(img),img.size)\n",
    "#img.show() \n",
    "\n",
    "\n",
    "#转换为numpy格式\n",
    "img_arr = np.asarray(img)  \n",
    "print(\"222:\",type(img_arr),img_arr.shape)\n",
    "\n",
    "#numpy array 转换为 图片格式\n",
    "Image.fromarray(img_arr).save(\"img_rgb2.png\")\n"
   ]
  },
  {
   "cell_type": "code",
   "execution_count": 19,
   "metadata": {},
   "outputs": [
    {
     "name": "stdout",
     "output_type": "stream",
     "text": [
      "111: <class 'numpy.ndarray'> (500, 889, 3)\n"
     ]
    }
   ],
   "source": [
    "from matplotlib import pyplot as plt\n",
    "\n",
    "img_path = \"./car.jpeg\"\n",
    "img = plt.imread(img_pth)\n",
    "print(\"111:\",type(img),img.shape)\n",
    "plt.show(\"img\")\n",
    "\n"
   ]
  }
 ],
 "metadata": {
  "kernelspec": {
   "display_name": "torch",
   "language": "python",
   "name": "python3"
  },
  "language_info": {
   "codemirror_mode": {
    "name": "ipython",
    "version": 3
   },
   "file_extension": ".py",
   "mimetype": "text/x-python",
   "name": "python",
   "nbconvert_exporter": "python",
   "pygments_lexer": "ipython3",
   "version": "3.12.1"
  }
 },
 "nbformat": 4,
 "nbformat_minor": 2
}
